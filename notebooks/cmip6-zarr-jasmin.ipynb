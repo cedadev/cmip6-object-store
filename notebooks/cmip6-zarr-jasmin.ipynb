{
 "cells": [
  {
   "cell_type": "markdown",
   "metadata": {},
   "source": [
    "# Working with CMIP6 data in the JASMIN Object Store\n",
    "This Notebook describes how to set up a virtual environment and then work with CMIP6 data in the JASMIN Object Store (stored in Zarr format)."
   ]
  },
  {
   "cell_type": "markdown",
   "metadata": {},
   "source": [
    "## Start by creating a virtual environment and getting the packages installed..."
   ]
  },
  {
   "cell_type": "code",
   "execution_count": 1,
   "metadata": {},
   "outputs": [],
   "source": [
    "# Import the required packages\n",
    "import virtualenv\n",
    "import pip\n",
    "import os\n",
    "\n",
    "# Define and create the base directory install virtual environments\n",
    "venvs_dir = os.path.join(os.path.expanduser(\"~\"), \"nb-venvs\")\n",
    "\n",
    "if not os.path.isdir(venvs_dir):\n",
    "    os.makedirs(venvs_dir)\n",
    "    \n",
    "# Define the venv directory\n",
    "venv_dir = os.path.join(venvs_dir, 'venv-cmip6-zarr')"
   ]
  },
  {
   "cell_type": "code",
   "execution_count": 2,
   "metadata": {},
   "outputs": [
    {
     "name": "stdout",
     "output_type": "stream",
     "text": [
      "copying /opt/jaspy/bin/python => /home/users/astephen/nb-venvs/venv-cmip6-zarr/bin/python\n"
     ]
    }
   ],
   "source": [
    "# Create the virtual environment\n",
    "virtualenv.create_environment(venv_dir)"
   ]
  },
  {
   "cell_type": "code",
   "execution_count": 3,
   "metadata": {},
   "outputs": [],
   "source": [
    "# Activate the venv\n",
    "activate_file = os.path.join(venv_dir, \"bin\", \"activate_this.py\")\n",
    "exec(open(activate_file).read(), dict(__file__=activate_file))"
   ]
  },
  {
   "cell_type": "code",
   "execution_count": 4,
   "metadata": {},
   "outputs": [
    {
     "name": "stderr",
     "output_type": "stream",
     "text": [
      "WARNING: pip is being invoked by an old script wrapper. This will fail in a future version of pip.\n",
      "Please see https://github.com/pypa/pip/issues/5599 for advice on fixing the underlying issue.\n",
      "To avoid this problem you can invoke Python with '-m pip' instead of running pip directly.\n"
     ]
    },
    {
     "name": "stdout",
     "output_type": "stream",
     "text": [
      "Requirement already satisfied: pip in /home/users/astephen/nb-venvs/venv-cmip6-zarr/lib/python3.7/site-packages (21.2.4)\n"
     ]
    },
    {
     "name": "stderr",
     "output_type": "stream",
     "text": [
      "WARNING: pip is being invoked by an old script wrapper. This will fail in a future version of pip.\n",
      "Please see https://github.com/pypa/pip/issues/5599 for advice on fixing the underlying issue.\n",
      "To avoid this problem you can invoke Python with '-m pip' instead of running pip directly.\n"
     ]
    },
    {
     "name": "stdout",
     "output_type": "stream",
     "text": [
      "Requirement already satisfied: fsspec in /home/users/astephen/nb-venvs/venv-cmip6-zarr/lib/python3.7/site-packages (0.8.4)\n"
     ]
    },
    {
     "name": "stderr",
     "output_type": "stream",
     "text": [
      "WARNING: pip is being invoked by an old script wrapper. This will fail in a future version of pip.\n",
      "Please see https://github.com/pypa/pip/issues/5599 for advice on fixing the underlying issue.\n",
      "To avoid this problem you can invoke Python with '-m pip' instead of running pip directly.\n"
     ]
    },
    {
     "name": "stdout",
     "output_type": "stream",
     "text": [
      "Requirement already satisfied: intake in /home/users/astephen/nb-venvs/venv-cmip6-zarr/lib/python3.7/site-packages (0.6.2)\n",
      "Requirement already satisfied: appdirs in /home/users/astephen/nb-venvs/venv-cmip6-zarr/lib/python3.7/site-packages (from intake) (1.4.4)\n",
      "Requirement already satisfied: pyyaml in /opt/jaspy/lib/python3.7/site-packages (from intake) (3.13)\n",
      "Requirement already satisfied: dask in /opt/jaspy/lib/python3.7/site-packages (from intake) (1.0.0)\n",
      "Requirement already satisfied: jinja2 in /opt/jaspy/lib/python3.7/site-packages (from intake) (2.10)\n",
      "Requirement already satisfied: entrypoints in /home/users/astephen/nb-venvs/venv-cmip6-zarr/lib/python3.7/site-packages (from intake) (0.3)\n",
      "Requirement already satisfied: fsspec>=0.7.4 in /home/users/astephen/nb-venvs/venv-cmip6-zarr/lib/python3.7/site-packages (from intake) (0.8.4)\n",
      "Requirement already satisfied: MarkupSafe>=0.23 in /opt/jaspy/lib/python3.7/site-packages (from jinja2->intake) (1.1.0)\n"
     ]
    },
    {
     "name": "stderr",
     "output_type": "stream",
     "text": [
      "WARNING: pip is being invoked by an old script wrapper. This will fail in a future version of pip.\n",
      "Please see https://github.com/pypa/pip/issues/5599 for advice on fixing the underlying issue.\n",
      "To avoid this problem you can invoke Python with '-m pip' instead of running pip directly.\n"
     ]
    },
    {
     "name": "stdout",
     "output_type": "stream",
     "text": [
      "Requirement already satisfied: intake_esm in /home/users/astephen/nb-venvs/venv-cmip6-zarr/lib/python3.7/site-packages (2020.11.4)\n",
      "Requirement already satisfied: h5netcdf>=0.8.1 in /home/users/astephen/nb-venvs/venv-cmip6-zarr/lib/python3.7/site-packages (from intake_esm) (0.8.1)\n",
      "Requirement already satisfied: intake>=0.6.0 in /home/users/astephen/nb-venvs/venv-cmip6-zarr/lib/python3.7/site-packages (from intake_esm) (0.6.2)\n",
      "Requirement already satisfied: zarr>=2.4 in /home/users/astephen/nb-venvs/venv-cmip6-zarr/lib/python3.7/site-packages (from intake_esm) (2.5.0)\n",
      "Requirement already satisfied: fsspec>=0.8.0 in /home/users/astephen/nb-venvs/venv-cmip6-zarr/lib/python3.7/site-packages (from intake_esm) (0.8.4)\n",
      "Requirement already satisfied: xarray>=0.16 in /home/users/astephen/nb-venvs/venv-cmip6-zarr/lib/python3.7/site-packages (from intake_esm) (0.16.1)\n",
      "Requirement already satisfied: fastprogress>=0.2.6 in /home/users/astephen/nb-venvs/venv-cmip6-zarr/lib/python3.7/site-packages (from intake_esm) (1.0.0)\n",
      "Requirement already satisfied: netCDF4>=1.5.3 in /home/users/astephen/nb-venvs/venv-cmip6-zarr/lib/python3.7/site-packages (from intake_esm) (1.5.4)\n",
      "Requirement already satisfied: requests>=2.24.0 in /home/users/astephen/nb-venvs/venv-cmip6-zarr/lib/python3.7/site-packages (from intake_esm) (2.25.0)\n",
      "Requirement already satisfied: dask[complete] in /opt/jaspy/lib/python3.7/site-packages (from intake_esm) (1.0.0)\n",
      "Requirement already satisfied: numpy in /opt/jaspy/lib/python3.7/site-packages (from fastprogress>=0.2.6->intake_esm) (1.15.4)\n",
      "Requirement already satisfied: h5py in /opt/jaspy/lib/python3.7/site-packages (from h5netcdf>=0.8.1->intake_esm) (2.8.0)\n",
      "Requirement already satisfied: appdirs in /home/users/astephen/nb-venvs/venv-cmip6-zarr/lib/python3.7/site-packages (from intake>=0.6.0->intake_esm) (1.4.4)\n",
      "Requirement already satisfied: pyyaml in /opt/jaspy/lib/python3.7/site-packages (from intake>=0.6.0->intake_esm) (3.13)\n",
      "Requirement already satisfied: jinja2 in /opt/jaspy/lib/python3.7/site-packages (from intake>=0.6.0->intake_esm) (2.10)\n",
      "Requirement already satisfied: entrypoints in /home/users/astephen/nb-venvs/venv-cmip6-zarr/lib/python3.7/site-packages (from intake>=0.6.0->intake_esm) (0.3)\n",
      "Requirement already satisfied: cftime in /opt/jaspy/lib/python3.7/site-packages (from netCDF4>=1.5.3->intake_esm) (1.0.3.4)\n",
      "Requirement already satisfied: chardet<4,>=3.0.2 in /opt/jaspy/lib/python3.7/site-packages (from requests>=2.24.0->intake_esm) (3.0.4)\n",
      "Requirement already satisfied: idna<3,>=2.5 in /opt/jaspy/lib/python3.7/site-packages (from requests>=2.24.0->intake_esm) (2.8)\n",
      "Requirement already satisfied: urllib3<1.27,>=1.21.1 in /opt/jaspy/lib/python3.7/site-packages (from requests>=2.24.0->intake_esm) (1.24.1)\n",
      "Requirement already satisfied: certifi>=2017.4.17 in /opt/jaspy/lib/python3.7/site-packages (from requests>=2.24.0->intake_esm) (2021.5.30)\n",
      "Requirement already satisfied: setuptools>=38.4 in /home/users/astephen/nb-venvs/venv-cmip6-zarr/lib/python3.7/site-packages (from xarray>=0.16->intake_esm) (39.1.0)\n",
      "Requirement already satisfied: pandas>=0.25 in /home/users/astephen/nb-venvs/venv-cmip6-zarr/lib/python3.7/site-packages (from xarray>=0.16->intake_esm) (1.1.4)\n",
      "Requirement already satisfied: python-dateutil>=2.7.3 in /opt/jaspy/lib/python3.7/site-packages (from pandas>=0.25->xarray>=0.16->intake_esm) (2.7.5)\n",
      "Requirement already satisfied: pytz>=2017.2 in /opt/jaspy/lib/python3.7/site-packages (from pandas>=0.25->xarray>=0.16->intake_esm) (2018.7)\n",
      "Requirement already satisfied: six>=1.5 in /opt/jaspy/lib/python3.7/site-packages (from python-dateutil>=2.7.3->pandas>=0.25->xarray>=0.16->intake_esm) (1.12.0)\n",
      "Requirement already satisfied: fasteners in /home/users/astephen/nb-venvs/venv-cmip6-zarr/lib/python3.7/site-packages (from zarr>=2.4->intake_esm) (0.15)\n",
      "Requirement already satisfied: asciitree in /home/users/astephen/nb-venvs/venv-cmip6-zarr/lib/python3.7/site-packages (from zarr>=2.4->intake_esm) (0.3.3)\n",
      "Requirement already satisfied: numcodecs>=0.6.4 in /home/users/astephen/nb-venvs/venv-cmip6-zarr/lib/python3.7/site-packages (from zarr>=2.4->intake_esm) (0.7.2)\n",
      "Requirement already satisfied: partd>=0.3.8 in /opt/jaspy/lib/python3.7/site-packages (from dask[complete]->intake_esm) (0.3.9)\n",
      "Requirement already satisfied: distributed>=1.22 in /opt/jaspy/lib/python3.7/site-packages (from dask[complete]->intake_esm) (1.25.1)\n",
      "Requirement already satisfied: cloudpickle>=0.2.1 in /opt/jaspy/lib/python3.7/site-packages (from dask[complete]->intake_esm) (0.6.1)\n",
      "Requirement already satisfied: toolz>=0.7.3 in /opt/jaspy/lib/python3.7/site-packages (from dask[complete]->intake_esm) (0.9.0)\n",
      "Requirement already satisfied: click>=6.6 in /opt/jaspy/lib/python3.7/site-packages (from distributed>=1.22->dask[complete]->intake_esm) (7.0)\n",
      "Requirement already satisfied: msgpack in /opt/jaspy/lib/python3.7/site-packages (from distributed>=1.22->dask[complete]->intake_esm) (0.6.0)\n",
      "Requirement already satisfied: psutil>=5.0 in /opt/jaspy/lib/python3.7/site-packages (from distributed>=1.22->dask[complete]->intake_esm) (5.4.8)\n",
      "Requirement already satisfied: sortedcontainers!=2.0.0,!=2.0.1 in /opt/jaspy/lib/python3.7/site-packages (from distributed>=1.22->dask[complete]->intake_esm) (2.1.0)\n",
      "Requirement already satisfied: tblib in /opt/jaspy/lib/python3.7/site-packages (from distributed>=1.22->dask[complete]->intake_esm) (1.3.2)\n",
      "Requirement already satisfied: tornado>=4.5.1 in /opt/jaspy/lib/python3.7/site-packages (from distributed>=1.22->dask[complete]->intake_esm) (5.1.1)\n",
      "Requirement already satisfied: zict>=0.1.3 in /opt/jaspy/lib/python3.7/site-packages (from distributed>=1.22->dask[complete]->intake_esm) (0.1.3)\n",
      "Requirement already satisfied: locket in /opt/jaspy/lib/python3.7/site-packages (from partd>=0.3.8->dask[complete]->intake_esm) (0.2.0)\n",
      "Requirement already satisfied: heapdict in /opt/jaspy/lib/python3.7/site-packages (from zict>=0.1.3->distributed>=1.22->dask[complete]->intake_esm) (1.0.0)\n",
      "Requirement already satisfied: monotonic>=0.1 in /home/users/astephen/nb-venvs/venv-cmip6-zarr/lib/python3.7/site-packages (from fasteners->zarr>=2.4->intake_esm) (1.5)\n",
      "Requirement already satisfied: MarkupSafe>=0.23 in /opt/jaspy/lib/python3.7/site-packages (from jinja2->intake>=0.6.0->intake_esm) (1.1.0)\n"
     ]
    },
    {
     "name": "stderr",
     "output_type": "stream",
     "text": [
      "WARNING: pip is being invoked by an old script wrapper. This will fail in a future version of pip.\n",
      "Please see https://github.com/pypa/pip/issues/5599 for advice on fixing the underlying issue.\n",
      "To avoid this problem you can invoke Python with '-m pip' instead of running pip directly.\n"
     ]
    },
    {
     "name": "stdout",
     "output_type": "stream",
     "text": [
      "Requirement already satisfied: aiohttp in /home/users/astephen/nb-venvs/venv-cmip6-zarr/lib/python3.7/site-packages (3.7.2)\n",
      "Requirement already satisfied: chardet<4.0,>=2.0 in /opt/jaspy/lib/python3.7/site-packages (from aiohttp) (3.0.4)\n",
      "Requirement already satisfied: attrs>=17.3.0 in /opt/jaspy/lib/python3.7/site-packages (from aiohttp) (18.2.0)\n",
      "Requirement already satisfied: async-timeout<4.0,>=3.0 in /home/users/astephen/nb-venvs/venv-cmip6-zarr/lib/python3.7/site-packages (from aiohttp) (3.0.1)\n",
      "Requirement already satisfied: typing-extensions>=3.6.5 in /home/users/astephen/nb-venvs/venv-cmip6-zarr/lib/python3.7/site-packages (from aiohttp) (3.7.4.3)\n",
      "Requirement already satisfied: multidict<7.0,>=4.5 in /home/users/astephen/nb-venvs/venv-cmip6-zarr/lib/python3.7/site-packages (from aiohttp) (5.0.2)\n",
      "Requirement already satisfied: yarl<2.0,>=1.0 in /home/users/astephen/nb-venvs/venv-cmip6-zarr/lib/python3.7/site-packages (from aiohttp) (1.6.3)\n",
      "Requirement already satisfied: idna>=2.0 in /opt/jaspy/lib/python3.7/site-packages (from yarl<2.0,>=1.0->aiohttp) (2.8)\n"
     ]
    }
   ],
   "source": [
    "# Install a set of required packages via `pip`\n",
    "requirements = ['fsspec', 'intake', 'intake_esm', 'aiohttp']\n",
    "\n",
    "pip.main([\"install\", \"--prefix\", venv_dir, \"--upgrade\", \"pip\"])\n",
    "\n",
    "for pkg in requirements:\n",
    "    pip.main([\"install\", \"--prefix\", venv_dir, pkg])"
   ]
  },
  {
   "cell_type": "markdown",
   "metadata": {},
   "source": [
    "# Accessing CMIP6 Data from the JASMIN (Zarr) Object Store"
   ]
  },
  {
   "cell_type": "markdown",
   "metadata": {},
   "source": [
    "**Pre-requisites**\n",
    "1. Required packages: `['xarray', 'zarr', 'fsspec', 'intake', 'intake_esm', 'aiohttp']`\n",
    "2. Data access: must be able to see JASMIN Object Store for CMIP6 (currently inside JASMIN firewall)"
   ]
  },
  {
   "cell_type": "markdown",
   "metadata": {},
   "source": [
    "## Step 1: Import required packages"
   ]
  },
  {
   "cell_type": "code",
   "execution_count": 5,
   "metadata": {},
   "outputs": [],
   "source": [
    "import xarray as xr\n",
    "import intake\n",
    "import intake_esm\n",
    "import fsspec"
   ]
  },
  {
   "cell_type": "markdown",
   "metadata": {},
   "source": [
    "## Step 2: read the CMIP6 Intake (ESM) catalog from github\n",
    "We define a collection (\"col\") that can be searched/filtered for required datasets."
   ]
  },
  {
   "cell_type": "code",
   "execution_count": 6,
   "metadata": {},
   "outputs": [],
   "source": [
    "col_url = \"https://raw.githubusercontent.com/cedadev/\" \\\n",
    "          \"cmip6-object-store/master/catalogs/ceda-zarr-cmip6-internal.json\"\n",
    "col = intake.open_esm_datastore(col_url)"
   ]
  },
  {
   "cell_type": "markdown",
   "metadata": {},
   "source": [
    "How many datasets are currently stored?"
   ]
  },
  {
   "cell_type": "code",
   "execution_count": 7,
   "metadata": {},
   "outputs": [
    {
     "data": {
      "text/plain": [
       "'There are 149339 datasets'"
      ]
     },
     "execution_count": 7,
     "metadata": {},
     "output_type": "execute_result"
    }
   ],
   "source": [
    "f'There are {len(col.df)} datasets'"
   ]
  },
  {
   "cell_type": "markdown",
   "metadata": {},
   "source": [
    "## Step 3: Filter the catalog for historical and future data\n",
    "In this example, we want to compare the surface temperature (\"tas\") from the\n",
    "UKESM1-0-LL model, for a historical and future (\"ssp585-bgc\") scenario."
   ]
  },
  {
   "cell_type": "code",
   "execution_count": 8,
   "metadata": {},
   "outputs": [],
   "source": [
    "cat = col.search(source_id=\"UKESM1-0-LL\",\n",
    "    experiment_id=[\"historical\", \"ssp585-bgc\"], \n",
    "    member_id=[\"r4i1p1f2\", \"r12i1p1f2\"],\n",
    "    table_id=\"Amon\",\n",
    "    variable_id=\"tas\")\n",
    "\n",
    "# Extract the single record subsets for historical and future experiments\n",
    "hist_cat = cat.search(experiment_id='historical')\n",
    "ssp_cat = cat.search(experiment_id='ssp585-bgc')"
   ]
  },
  {
   "cell_type": "markdown",
   "metadata": {},
   "source": [
    "## Step 4: Convert to xarray datasets"
   ]
  },
  {
   "cell_type": "markdown",
   "metadata": {},
   "source": [
    "Define a quick function to convert a catalog to an xarray `Dataset`."
   ]
  },
  {
   "cell_type": "code",
   "execution_count": 9,
   "metadata": {},
   "outputs": [],
   "source": [
    "def cat_to_ds(cat):\n",
    "    zarr_path = cat.df['zarr_path'][0]\n",
    "    fsmap = fsspec.get_mapper(zarr_path)\n",
    "    return xr.open_zarr(fsmap, consolidated=True, use_cftime=True)"
   ]
  },
  {
   "cell_type": "markdown",
   "metadata": {},
   "source": [
    "Extract the `tas` (surface air temperture) variable for the historical and future experiments."
   ]
  },
  {
   "cell_type": "code",
   "execution_count": 10,
   "metadata": {},
   "outputs": [
    {
     "ename": "ClientResponseError",
     "evalue": "403, message='Forbidden', url=URL('http://cmip6-zarr-o.s3-ext.jc.rl.ac.uk/CMIP6.CMIP.MOHC.UKESM1-0-LL/historical.r12i1p1f2.Amon.tas.gn.v20191210.zarr/.zmetadata')",
     "output_type": "error",
     "traceback": [
      "\u001b[0;31m---------------------------------------------------------------------------\u001b[0m",
      "\u001b[0;31mClientResponseError\u001b[0m                       Traceback (most recent call last)",
      "\u001b[0;32m<ipython-input-10-107905d5492a>\u001b[0m in \u001b[0;36m<module>\u001b[0;34m\u001b[0m\n\u001b[0;32m----> 1\u001b[0;31m \u001b[0mhist_tas\u001b[0m \u001b[0;34m=\u001b[0m \u001b[0mcat_to_ds\u001b[0m\u001b[0;34m(\u001b[0m\u001b[0mhist_cat\u001b[0m\u001b[0;34m)\u001b[0m\u001b[0;34m[\u001b[0m\u001b[0;34m'tas'\u001b[0m\u001b[0;34m]\u001b[0m\u001b[0;34m\u001b[0m\u001b[0;34m\u001b[0m\u001b[0m\n\u001b[0m\u001b[1;32m      2\u001b[0m \u001b[0mssp_tas\u001b[0m \u001b[0;34m=\u001b[0m \u001b[0mcat_to_ds\u001b[0m\u001b[0;34m(\u001b[0m\u001b[0mssp_cat\u001b[0m\u001b[0;34m)\u001b[0m\u001b[0;34m[\u001b[0m\u001b[0;34m'tas'\u001b[0m\u001b[0;34m]\u001b[0m\u001b[0;34m\u001b[0m\u001b[0;34m\u001b[0m\u001b[0m\n",
      "\u001b[0;32m<ipython-input-9-58c282d0785d>\u001b[0m in \u001b[0;36mcat_to_ds\u001b[0;34m(cat)\u001b[0m\n\u001b[1;32m      2\u001b[0m     \u001b[0mzarr_path\u001b[0m \u001b[0;34m=\u001b[0m \u001b[0mcat\u001b[0m\u001b[0;34m.\u001b[0m\u001b[0mdf\u001b[0m\u001b[0;34m[\u001b[0m\u001b[0;34m'zarr_path'\u001b[0m\u001b[0;34m]\u001b[0m\u001b[0;34m[\u001b[0m\u001b[0;36m0\u001b[0m\u001b[0;34m]\u001b[0m\u001b[0;34m\u001b[0m\u001b[0;34m\u001b[0m\u001b[0m\n\u001b[1;32m      3\u001b[0m     \u001b[0mfsmap\u001b[0m \u001b[0;34m=\u001b[0m \u001b[0mfsspec\u001b[0m\u001b[0;34m.\u001b[0m\u001b[0mget_mapper\u001b[0m\u001b[0;34m(\u001b[0m\u001b[0mzarr_path\u001b[0m\u001b[0;34m)\u001b[0m\u001b[0;34m\u001b[0m\u001b[0;34m\u001b[0m\u001b[0m\n\u001b[0;32m----> 4\u001b[0;31m     \u001b[0;32mreturn\u001b[0m \u001b[0mxr\u001b[0m\u001b[0;34m.\u001b[0m\u001b[0mopen_zarr\u001b[0m\u001b[0;34m(\u001b[0m\u001b[0mfsmap\u001b[0m\u001b[0;34m,\u001b[0m \u001b[0mconsolidated\u001b[0m\u001b[0;34m=\u001b[0m\u001b[0;32mTrue\u001b[0m\u001b[0;34m,\u001b[0m \u001b[0muse_cftime\u001b[0m\u001b[0;34m=\u001b[0m\u001b[0;32mTrue\u001b[0m\u001b[0;34m)\u001b[0m\u001b[0;34m\u001b[0m\u001b[0;34m\u001b[0m\u001b[0m\n\u001b[0m",
      "\u001b[0;32m~/nb-venvs/venv-cmip6-zarr/lib/python3.7/site-packages/xarray/backends/zarr.py\u001b[0m in \u001b[0;36mopen_zarr\u001b[0;34m(store, group, synchronizer, chunks, decode_cf, mask_and_scale, decode_times, concat_characters, decode_coords, drop_variables, consolidated, overwrite_encoded_chunks, chunk_store, decode_timedelta, use_cftime, **kwargs)\u001b[0m\n\u001b[1;32m    665\u001b[0m         \u001b[0mgroup\u001b[0m\u001b[0;34m=\u001b[0m\u001b[0mgroup\u001b[0m\u001b[0;34m,\u001b[0m\u001b[0;34m\u001b[0m\u001b[0;34m\u001b[0m\u001b[0m\n\u001b[1;32m    666\u001b[0m         \u001b[0mconsolidated\u001b[0m\u001b[0;34m=\u001b[0m\u001b[0mconsolidated\u001b[0m\u001b[0;34m,\u001b[0m\u001b[0;34m\u001b[0m\u001b[0;34m\u001b[0m\u001b[0m\n\u001b[0;32m--> 667\u001b[0;31m         \u001b[0mchunk_store\u001b[0m\u001b[0;34m=\u001b[0m\u001b[0mchunk_store\u001b[0m\u001b[0;34m,\u001b[0m\u001b[0;34m\u001b[0m\u001b[0;34m\u001b[0m\u001b[0m\n\u001b[0m\u001b[1;32m    668\u001b[0m     )\n\u001b[1;32m    669\u001b[0m     \u001b[0mds\u001b[0m \u001b[0;34m=\u001b[0m \u001b[0mmaybe_decode_store\u001b[0m\u001b[0;34m(\u001b[0m\u001b[0mzarr_store\u001b[0m\u001b[0;34m)\u001b[0m\u001b[0;34m\u001b[0m\u001b[0;34m\u001b[0m\u001b[0m\n",
      "\u001b[0;32m~/nb-venvs/venv-cmip6-zarr/lib/python3.7/site-packages/xarray/backends/zarr.py\u001b[0m in \u001b[0;36mopen_group\u001b[0;34m(cls, store, mode, synchronizer, group, consolidated, consolidate_on_close, chunk_store)\u001b[0m\n\u001b[1;32m    288\u001b[0m         \u001b[0;32mif\u001b[0m \u001b[0mconsolidated\u001b[0m\u001b[0;34m:\u001b[0m\u001b[0;34m\u001b[0m\u001b[0;34m\u001b[0m\u001b[0m\n\u001b[1;32m    289\u001b[0m             \u001b[0;31m# TODO: an option to pass the metadata_key keyword\u001b[0m\u001b[0;34m\u001b[0m\u001b[0;34m\u001b[0m\u001b[0;34m\u001b[0m\u001b[0m\n\u001b[0;32m--> 290\u001b[0;31m             \u001b[0mzarr_group\u001b[0m \u001b[0;34m=\u001b[0m \u001b[0mzarr\u001b[0m\u001b[0;34m.\u001b[0m\u001b[0mopen_consolidated\u001b[0m\u001b[0;34m(\u001b[0m\u001b[0mstore\u001b[0m\u001b[0;34m,\u001b[0m \u001b[0;34m**\u001b[0m\u001b[0mopen_kwargs\u001b[0m\u001b[0;34m)\u001b[0m\u001b[0;34m\u001b[0m\u001b[0;34m\u001b[0m\u001b[0m\n\u001b[0m\u001b[1;32m    291\u001b[0m         \u001b[0;32melse\u001b[0m\u001b[0;34m:\u001b[0m\u001b[0;34m\u001b[0m\u001b[0;34m\u001b[0m\u001b[0m\n\u001b[1;32m    292\u001b[0m             \u001b[0mzarr_group\u001b[0m \u001b[0;34m=\u001b[0m \u001b[0mzarr\u001b[0m\u001b[0;34m.\u001b[0m\u001b[0mopen_group\u001b[0m\u001b[0;34m(\u001b[0m\u001b[0mstore\u001b[0m\u001b[0;34m,\u001b[0m \u001b[0;34m**\u001b[0m\u001b[0mopen_kwargs\u001b[0m\u001b[0;34m)\u001b[0m\u001b[0;34m\u001b[0m\u001b[0;34m\u001b[0m\u001b[0m\n",
      "\u001b[0;32m~/nb-venvs/venv-cmip6-zarr/lib/python3.7/site-packages/zarr/convenience.py\u001b[0m in \u001b[0;36mopen_consolidated\u001b[0;34m(store, metadata_key, mode, **kwargs)\u001b[0m\n\u001b[1;32m   1172\u001b[0m \u001b[0;34m\u001b[0m\u001b[0m\n\u001b[1;32m   1173\u001b[0m     \u001b[0;31m# setup metadata sotre\u001b[0m\u001b[0;34m\u001b[0m\u001b[0;34m\u001b[0m\u001b[0;34m\u001b[0m\u001b[0m\n\u001b[0;32m-> 1174\u001b[0;31m     \u001b[0mmeta_store\u001b[0m \u001b[0;34m=\u001b[0m \u001b[0mConsolidatedMetadataStore\u001b[0m\u001b[0;34m(\u001b[0m\u001b[0mstore\u001b[0m\u001b[0;34m,\u001b[0m \u001b[0mmetadata_key\u001b[0m\u001b[0;34m=\u001b[0m\u001b[0mmetadata_key\u001b[0m\u001b[0;34m)\u001b[0m\u001b[0;34m\u001b[0m\u001b[0;34m\u001b[0m\u001b[0m\n\u001b[0m\u001b[1;32m   1175\u001b[0m \u001b[0;34m\u001b[0m\u001b[0m\n\u001b[1;32m   1176\u001b[0m     \u001b[0;31m# pass through\u001b[0m\u001b[0;34m\u001b[0m\u001b[0;34m\u001b[0m\u001b[0;34m\u001b[0m\u001b[0m\n",
      "\u001b[0;32m~/nb-venvs/venv-cmip6-zarr/lib/python3.7/site-packages/zarr/storage.py\u001b[0m in \u001b[0;36m__init__\u001b[0;34m(self, store, metadata_key)\u001b[0m\n\u001b[1;32m   2672\u001b[0m \u001b[0;34m\u001b[0m\u001b[0m\n\u001b[1;32m   2673\u001b[0m         \u001b[0;31m# retrieve consolidated metadata\u001b[0m\u001b[0;34m\u001b[0m\u001b[0;34m\u001b[0m\u001b[0;34m\u001b[0m\u001b[0m\n\u001b[0;32m-> 2674\u001b[0;31m         \u001b[0mmeta\u001b[0m \u001b[0;34m=\u001b[0m \u001b[0mjson_loads\u001b[0m\u001b[0;34m(\u001b[0m\u001b[0mstore\u001b[0m\u001b[0;34m[\u001b[0m\u001b[0mmetadata_key\u001b[0m\u001b[0;34m]\u001b[0m\u001b[0;34m)\u001b[0m\u001b[0;34m\u001b[0m\u001b[0;34m\u001b[0m\u001b[0m\n\u001b[0m\u001b[1;32m   2675\u001b[0m \u001b[0;34m\u001b[0m\u001b[0m\n\u001b[1;32m   2676\u001b[0m         \u001b[0;31m# check format of consolidated metadata\u001b[0m\u001b[0;34m\u001b[0m\u001b[0;34m\u001b[0m\u001b[0;34m\u001b[0m\u001b[0m\n",
      "\u001b[0;32m~/nb-venvs/venv-cmip6-zarr/lib/python3.7/site-packages/fsspec/mapping.py\u001b[0m in \u001b[0;36m__getitem__\u001b[0;34m(self, key, default)\u001b[0m\n\u001b[1;32m    130\u001b[0m         \u001b[0mk\u001b[0m \u001b[0;34m=\u001b[0m \u001b[0mself\u001b[0m\u001b[0;34m.\u001b[0m\u001b[0m_key_to_str\u001b[0m\u001b[0;34m(\u001b[0m\u001b[0mkey\u001b[0m\u001b[0;34m)\u001b[0m\u001b[0;34m\u001b[0m\u001b[0;34m\u001b[0m\u001b[0m\n\u001b[1;32m    131\u001b[0m         \u001b[0;32mtry\u001b[0m\u001b[0;34m:\u001b[0m\u001b[0;34m\u001b[0m\u001b[0;34m\u001b[0m\u001b[0m\n\u001b[0;32m--> 132\u001b[0;31m             \u001b[0mresult\u001b[0m \u001b[0;34m=\u001b[0m \u001b[0mself\u001b[0m\u001b[0;34m.\u001b[0m\u001b[0mfs\u001b[0m\u001b[0;34m.\u001b[0m\u001b[0mcat\u001b[0m\u001b[0;34m(\u001b[0m\u001b[0mk\u001b[0m\u001b[0;34m)\u001b[0m\u001b[0;34m\u001b[0m\u001b[0;34m\u001b[0m\u001b[0m\n\u001b[0m\u001b[1;32m    133\u001b[0m         \u001b[0;32mexcept\u001b[0m \u001b[0mself\u001b[0m\u001b[0;34m.\u001b[0m\u001b[0mmissing_exceptions\u001b[0m\u001b[0;34m:\u001b[0m\u001b[0;34m\u001b[0m\u001b[0;34m\u001b[0m\u001b[0m\n\u001b[1;32m    134\u001b[0m             \u001b[0;32mif\u001b[0m \u001b[0mdefault\u001b[0m \u001b[0;32mis\u001b[0m \u001b[0;32mnot\u001b[0m \u001b[0;32mNone\u001b[0m\u001b[0;34m:\u001b[0m\u001b[0;34m\u001b[0m\u001b[0;34m\u001b[0m\u001b[0m\n",
      "\u001b[0;32m~/nb-venvs/venv-cmip6-zarr/lib/python3.7/site-packages/fsspec/asyn.py\u001b[0m in \u001b[0;36mcat\u001b[0;34m(self, path, recursive, on_error, **kwargs)\u001b[0m\n\u001b[1;32m    228\u001b[0m             \u001b[0mex\u001b[0m \u001b[0;34m=\u001b[0m \u001b[0mnext\u001b[0m\u001b[0;34m(\u001b[0m\u001b[0mfilter\u001b[0m\u001b[0;34m(\u001b[0m\u001b[0mis_exception\u001b[0m\u001b[0;34m,\u001b[0m \u001b[0mout\u001b[0m\u001b[0;34m)\u001b[0m\u001b[0;34m,\u001b[0m \u001b[0;32mFalse\u001b[0m\u001b[0;34m)\u001b[0m\u001b[0;34m\u001b[0m\u001b[0;34m\u001b[0m\u001b[0m\n\u001b[1;32m    229\u001b[0m             \u001b[0;32mif\u001b[0m \u001b[0mex\u001b[0m\u001b[0;34m:\u001b[0m\u001b[0;34m\u001b[0m\u001b[0;34m\u001b[0m\u001b[0m\n\u001b[0;32m--> 230\u001b[0;31m                 \u001b[0;32mraise\u001b[0m \u001b[0mex\u001b[0m\u001b[0;34m\u001b[0m\u001b[0;34m\u001b[0m\u001b[0m\n\u001b[0m\u001b[1;32m    231\u001b[0m         if (\n\u001b[1;32m    232\u001b[0m             \u001b[0mlen\u001b[0m\u001b[0;34m(\u001b[0m\u001b[0mpaths\u001b[0m\u001b[0;34m)\u001b[0m \u001b[0;34m>\u001b[0m \u001b[0;36m1\u001b[0m\u001b[0;34m\u001b[0m\u001b[0;34m\u001b[0m\u001b[0m\n",
      "\u001b[0;32m~/nb-venvs/venv-cmip6-zarr/lib/python3.7/site-packages/fsspec/implementations/http.py\u001b[0m in \u001b[0;36m_cat_file\u001b[0;34m(self, url, **kwargs)\u001b[0m\n\u001b[1;32m    152\u001b[0m             \u001b[0;32mif\u001b[0m \u001b[0mr\u001b[0m\u001b[0;34m.\u001b[0m\u001b[0mstatus\u001b[0m \u001b[0;34m==\u001b[0m \u001b[0;36m404\u001b[0m\u001b[0;34m:\u001b[0m\u001b[0;34m\u001b[0m\u001b[0;34m\u001b[0m\u001b[0m\n\u001b[1;32m    153\u001b[0m                 \u001b[0;32mraise\u001b[0m \u001b[0mFileNotFoundError\u001b[0m\u001b[0;34m(\u001b[0m\u001b[0murl\u001b[0m\u001b[0;34m)\u001b[0m\u001b[0;34m\u001b[0m\u001b[0;34m\u001b[0m\u001b[0m\n\u001b[0;32m--> 154\u001b[0;31m             \u001b[0mr\u001b[0m\u001b[0;34m.\u001b[0m\u001b[0mraise_for_status\u001b[0m\u001b[0;34m(\u001b[0m\u001b[0;34m)\u001b[0m\u001b[0;34m\u001b[0m\u001b[0;34m\u001b[0m\u001b[0m\n\u001b[0m\u001b[1;32m    155\u001b[0m             \u001b[0mout\u001b[0m \u001b[0;34m=\u001b[0m \u001b[0;32mawait\u001b[0m \u001b[0mr\u001b[0m\u001b[0;34m.\u001b[0m\u001b[0mread\u001b[0m\u001b[0;34m(\u001b[0m\u001b[0;34m)\u001b[0m\u001b[0;34m\u001b[0m\u001b[0;34m\u001b[0m\u001b[0m\n\u001b[1;32m    156\u001b[0m         \u001b[0;32mreturn\u001b[0m \u001b[0mout\u001b[0m\u001b[0;34m\u001b[0m\u001b[0;34m\u001b[0m\u001b[0m\n",
      "\u001b[0;32m~/nb-venvs/venv-cmip6-zarr/lib/python3.7/site-packages/aiohttp/client_reqrep.py\u001b[0m in \u001b[0;36mraise_for_status\u001b[0;34m(self)\u001b[0m\n\u001b[1;32m   1003\u001b[0m                 \u001b[0mstatus\u001b[0m\u001b[0;34m=\u001b[0m\u001b[0mself\u001b[0m\u001b[0;34m.\u001b[0m\u001b[0mstatus\u001b[0m\u001b[0;34m,\u001b[0m\u001b[0;34m\u001b[0m\u001b[0;34m\u001b[0m\u001b[0m\n\u001b[1;32m   1004\u001b[0m                 \u001b[0mmessage\u001b[0m\u001b[0;34m=\u001b[0m\u001b[0mself\u001b[0m\u001b[0;34m.\u001b[0m\u001b[0mreason\u001b[0m\u001b[0;34m,\u001b[0m\u001b[0;34m\u001b[0m\u001b[0;34m\u001b[0m\u001b[0m\n\u001b[0;32m-> 1005\u001b[0;31m                 \u001b[0mheaders\u001b[0m\u001b[0;34m=\u001b[0m\u001b[0mself\u001b[0m\u001b[0;34m.\u001b[0m\u001b[0mheaders\u001b[0m\u001b[0;34m,\u001b[0m\u001b[0;34m\u001b[0m\u001b[0;34m\u001b[0m\u001b[0m\n\u001b[0m\u001b[1;32m   1006\u001b[0m             )\n\u001b[1;32m   1007\u001b[0m \u001b[0;34m\u001b[0m\u001b[0m\n",
      "\u001b[0;31mClientResponseError\u001b[0m: 403, message='Forbidden', url=URL('http://cmip6-zarr-o.s3-ext.jc.rl.ac.uk/CMIP6.CMIP.MOHC.UKESM1-0-LL/historical.r12i1p1f2.Amon.tas.gn.v20191210.zarr/.zmetadata')"
     ]
    }
   ],
   "source": [
    "hist_tas = cat_to_ds(hist_cat)['tas']\n",
    "ssp_tas = cat_to_ds(ssp_cat)['tas']"
   ]
  },
  {
   "cell_type": "markdown",
   "metadata": {},
   "source": [
    "## Step 5: Subtract the historical from the future average\n",
    "Generate time-series means of historical and future data. Subtract the historical from the future scenario and plot the difference."
   ]
  },
  {
   "cell_type": "code",
   "execution_count": null,
   "metadata": {},
   "outputs": [],
   "source": [
    "# Calculate time means\n",
    "diff = ssp_tas.mean(axis=0) - hist_tas.mean(axis=0)\n",
    "\n",
    "# Plot a map of the time-series means\n",
    "diff.plot()"
   ]
  },
  {
   "cell_type": "markdown",
   "metadata": {},
   "source": [
    "## References\n",
    "- CMIP6 Object Store code (github): https://github.com/cedadev/cmip6-object-store\n",
    "- This notebook: https://github.com/cedadev/cmip6-object-store/blob/master/notebooks/cmip6-zarr-jasmin.ipynb"
   ]
  }
 ],
 "metadata": {
  "kernelspec": {
   "display_name": "Python 3 + Jaspy",
   "language": "python",
   "name": "jaspy"
  },
  "language_info": {
   "codemirror_mode": {
    "name": "ipython",
    "version": 3
   },
   "file_extension": ".py",
   "mimetype": "text/x-python",
   "name": "python",
   "nbconvert_exporter": "python",
   "pygments_lexer": "ipython3",
   "version": "3.7.1"
  }
 },
 "nbformat": 4,
 "nbformat_minor": 4
}
