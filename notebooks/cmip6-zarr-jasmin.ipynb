{
 "cells": [
  {
   "cell_type": "markdown",
   "metadata": {},
   "source": [
    "# Working with CMIP6 data in the JASMIN Object Store\n",
    "This Notebook describes how to set up a virtual environment and then work with CMIP6 data in the JASMIN Object Store (stored in Zarr format)."
   ]
  },
  {
   "cell_type": "markdown",
   "metadata": {},
   "source": [
    "## Start by creating a virtual environment and getting the packages installed..."
   ]
  },
  {
   "cell_type": "code",
   "execution_count": null,
   "metadata": {},
   "outputs": [],
   "source": [
    "# Import the required packages\n",
    "import virtualenv\n",
    "import pip\n",
    "import os\n",
    "\n",
    "# Define and create the base directory install virtual environments\n",
    "venvs_dir = os.path.join(os.path.expanduser(\"~\"), \"nb-venvs\")\n",
    "\n",
    "if not os.path.isdir(venvs_dir):\n",
    "    os.makedirs(venvs_dir)\n",
    "    \n",
    "# Define the venv directory\n",
    "venv_dir = os.path.join(venvs_dir, 'venv-cmip6-zarr')"
   ]
  },
  {
   "cell_type": "code",
   "execution_count": null,
   "metadata": {},
   "outputs": [],
   "source": [
    "# Create the virtual environment\n",
    "virtualenv.create_environment(venv_dir)"
   ]
  },
  {
   "cell_type": "code",
   "execution_count": null,
   "metadata": {},
   "outputs": [],
   "source": [
    "# Activate the venv\n",
    "activate_file = os.path.join(venv_dir, \"bin\", \"activate_this.py\")\n",
    "exec(open(activate_file).read(), dict(__file__=activate_file))"
   ]
  },
  {
   "cell_type": "code",
   "execution_count": null,
   "metadata": {},
   "outputs": [],
   "source": [
    "# Install a set of required packages via `pip`\n",
    "requirements = ['fsspec', 'intake', 'intake_esm', 'aiohttp']\n",
    "\n",
    "pip.main([\"install\", \"--prefix\", venv_dir, \"--upgrade\", \"pip\"])\n",
    "\n",
    "for pkg in requirements:\n",
    "    pip.main([\"install\", \"--prefix\", venv_dir, pkg])"
   ]
  },
  {
   "cell_type": "markdown",
   "metadata": {},
   "source": [
    "# Accessing CMIP6 Data from the JASMIN (Zarr) Object Store"
   ]
  },
  {
   "cell_type": "markdown",
   "metadata": {},
   "source": [
    "**Pre-requisites**\n",
    "1. Required packages: `['xarray', 'zarr', 'fsspec', 'intake', 'intake_esm', 'aiohttp']`\n",
    "2. Data access: must be able to see JASMIN Object Store for CMIP6 (currently inside JASMIN firewall)"
   ]
  },
  {
   "cell_type": "markdown",
   "metadata": {},
   "source": [
    "## Step 1: Import required packages"
   ]
  },
  {
   "cell_type": "code",
   "execution_count": null,
   "metadata": {},
   "outputs": [],
   "source": [
    "import xarray as xr\n",
    "import intake\n",
    "import intake_esm\n",
    "import fsspec"
   ]
  },
  {
   "cell_type": "markdown",
   "metadata": {},
   "source": [
    "## Step 2: read the CMIP6 Intake (ESM) catalog from github\n",
    "We define a collection (\"col\") that can be searched/filtered for required datasets."
   ]
  },
  {
   "cell_type": "code",
   "execution_count": null,
   "metadata": {},
   "outputs": [],
   "source": [
    "col_url = \"https://raw.githubusercontent.com/cedadev/\" \\\n",
    "          \"cmip6-object-store/master/catalogs/ceda-zarr-cmip6.json\"\n",
    "col = intake.open_esm_datastore(col_url)"
   ]
  },
  {
   "cell_type": "markdown",
   "metadata": {},
   "source": [
    "How many datasets are currently stored?"
   ]
  },
  {
   "cell_type": "code",
   "execution_count": null,
   "metadata": {},
   "outputs": [],
   "source": [
    "f'There are {len(col.df)} datasets'"
   ]
  },
  {
   "cell_type": "markdown",
   "metadata": {},
   "source": [
    "## Step 3: Filter the catalog for historical and future data\n",
    "In this example, we want to compare the surface temperature (\"tas\") from the\n",
    "UKESM1-0-LL model, for a historical and future (\"ssp585-bgc\") scenario."
   ]
  },
  {
   "cell_type": "code",
   "execution_count": null,
   "metadata": {},
   "outputs": [],
   "source": [
    "cat = col.search(source_id=\"UKESM1-0-LL\",\n",
    "    experiment_id=[\"historical\", \"ssp585-bgc\"], \n",
    "    member_id=[\"r4i1p1f2\", \"r12i1p1f2\"],\n",
    "    table_id=\"Amon\",\n",
    "    variable_id=\"tas\")\n",
    "\n",
    "# Extract the single record subsets for historical and future experiments\n",
    "hist_cat = cat.search(experiment_id='historical')\n",
    "ssp_cat = cat.search(experiment_id='ssp585-bgc')"
   ]
  },
  {
   "cell_type": "markdown",
   "metadata": {},
   "source": [
    "## Step 4: Convert to xarray datasets"
   ]
  },
  {
   "cell_type": "markdown",
   "metadata": {},
   "source": [
    "Define a quick function to convert a catalog to an xarray `Dataset`."
   ]
  },
  {
   "cell_type": "code",
   "execution_count": null,
   "metadata": {},
   "outputs": [],
   "source": [
    "def cat_to_ds(cat):\n",
    "    zarr_path = cat.df['zarr_path'][0]\n",
    "    fsmap = fsspec.get_mapper(zarr_path)\n",
    "    return xr.open_zarr(fsmap, consolidated=True, use_cftime=True)"
   ]
  },
  {
   "cell_type": "markdown",
   "metadata": {},
   "source": [
    "Extract the `tas` (surface air temperture) variable for the historical and future experiments."
   ]
  },
  {
   "cell_type": "code",
   "execution_count": null,
   "metadata": {},
   "outputs": [],
   "source": [
    "hist_tas = cat_to_ds(hist_cat)['tas']\n",
    "ssp_tas = cat_to_ds(ssp_cat)['tas']"
   ]
  },
  {
   "cell_type": "markdown",
   "metadata": {},
   "source": [
    "## Step 5: Subtract the historical from the future average\n",
    "Generate time-series means of historical and future data. Subtract the historical from the future scenario and plot the difference."
   ]
  },
  {
   "cell_type": "code",
   "execution_count": null,
   "metadata": {},
   "outputs": [],
   "source": [
    "# Calculate time means\n",
    "diff = ssp_tas.mean(axis=0) - hist_tas.mean(axis=0)\n",
    "\n",
    "# Plot a map of the time-series means\n",
    "diff.plot()"
   ]
  },
  {
   "cell_type": "markdown",
   "metadata": {},
   "source": [
    "## References\n",
    "- CMIP6 Object Store code (github): https://github.com/cedadev/cmip6-object-store\n",
    "- This notebook: https://github.com/cedadev/cmip6-object-store/blob/master/notebooks/cmip6-zarr-jasmin.ipynb"
   ]
  }
 ],
 "metadata": {
  "kernelspec": {
   "display_name": "Python 3 + Jaspy",
   "language": "python",
   "name": "jaspy"
  },
  "language_info": {
   "codemirror_mode": {
    "name": "ipython",
    "version": 3
   },
   "file_extension": ".py",
   "mimetype": "text/x-python",
   "name": "python",
   "nbconvert_exporter": "python",
   "pygments_lexer": "ipython3",
   "version": "3.7.1"
  }
 },
 "nbformat": 4,
 "nbformat_minor": 4
}
